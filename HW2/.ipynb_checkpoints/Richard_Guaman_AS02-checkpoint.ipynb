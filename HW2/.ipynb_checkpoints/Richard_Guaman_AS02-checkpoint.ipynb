{
 "cells": [
  {
   "cell_type": "markdown",
   "metadata": {},
   "source": [
    "Calculate:\n",
    "$$S_N = \\sum_{i=1}^{N} [\\pi]$$\n",
    "Using naive summation and compensated summation for N values: $$10^6, 10^7, 10^8, \\textrm{and}\\: 10^9$$"
   ]
  },
  {
   "cell_type": "code",
   "execution_count": 1,
   "metadata": {},
   "outputs": [
    {
     "name": "stdout",
     "output_type": "stream",
     "text": [
      "Sum: 3141592.6535849427\n",
      "Elapsed Time: 0.28926634788513184\n"
     ]
    }
   ],
   "source": [
    "# Naive approach for N = 10^6:\n",
    "import math;\n",
    "import time;\n",
    "\n",
    "sum_total = 0;\n",
    "\n",
    "start_time = time.time()\n",
    "\n",
    "for i in range (10**6):\n",
    "    sum_total += math.pi\n",
    "    \n",
    "end_time = time.time()\n",
    "\n",
    "print(\"Sum: \" + str(sum_total))\n",
    "elapsed_time = end_time - start_time\n",
    "print(\"Elapsed Time: \" + str(elapsed_time))"
   ]
  },
  {
   "cell_type": "code",
   "execution_count": 2,
   "metadata": {
    "scrolled": true
   },
   "outputs": [
    {
     "name": "stdout",
     "output_type": "stream",
     "text": [
      "Sum: 31415926.543478474\n",
      "Elapsed Time: 2.0212173461914062\n"
     ]
    }
   ],
   "source": [
    "# Naive approach for N = 10^7:\n",
    "import math;\n",
    "import time;\n",
    "\n",
    "sum_total = 0;\n",
    "\n",
    "start_time = time.time()\n",
    "\n",
    "for i in range (10**7):\n",
    "    sum_total += math.pi\n",
    "    \n",
    "end_time = time.time()\n",
    "\n",
    "print(\"Sum: \" + str(sum_total))\n",
    "elapsed_time = end_time - start_time\n",
    "print(\"Elapsed Time: \" + str(elapsed_time))"
   ]
  },
  {
   "cell_type": "code",
   "execution_count": 3,
   "metadata": {},
   "outputs": [
    {
     "name": "stdout",
     "output_type": "stream",
     "text": [
      "Sum: 314159265.624272\n",
      "Elapsed Time: 18.109305381774902\n"
     ]
    }
   ],
   "source": [
    "# Naive approach for N = 10^8:\n",
    "import math;\n",
    "import time;\n",
    "\n",
    "sum_total = 0;\n",
    "\n",
    "start_time = time.time()\n",
    "\n",
    "for i in range (10**8):\n",
    "    sum_total += math.pi\n",
    "    \n",
    "end_time = time.time()\n",
    "\n",
    "print(\"Sum: \" + str(sum_total))\n",
    "elapsed_time = end_time - start_time\n",
    "print(\"Elapsed Time: \" + str(elapsed_time))"
   ]
  },
  {
   "cell_type": "code",
   "execution_count": 4,
   "metadata": {},
   "outputs": [
    {
     "name": "stdout",
     "output_type": "stream",
     "text": [
      "Sum: 3141592632.494384\n",
      "Elapsed Time: 166.0623505115509\n"
     ]
    }
   ],
   "source": [
    "# Naive approach for N = 10^9:\n",
    "import math;\n",
    "import time;\n",
    "\n",
    "sum_total = 0;\n",
    "\n",
    "start_time = time.time()\n",
    "\n",
    "for i in range (10**9):\n",
    "    sum_total += math.pi\n",
    "    \n",
    "end_time = time.time()\n",
    "\n",
    "print(\"Sum: \" + str(sum_total))\n",
    "elapsed_time = end_time - start_time\n",
    "print(\"Elapsed Time: \" + str(elapsed_time))"
   ]
  },
  {
   "cell_type": "code",
   "execution_count": 5,
   "metadata": {},
   "outputs": [
    {
     "name": "stdout",
     "output_type": "stream",
     "text": [
      "Sum: 3141589.5119971395\n",
      "Elapsed Time: 0.43825721740722656\n"
     ]
    }
   ],
   "source": [
    "# Compensated Summation approach for N = 10^6:\n",
    "import math;\n",
    "import time;\n",
    "\n",
    "sum_total = 0;\n",
    "e = 0;\n",
    "\n",
    "start_time = time.time()\n",
    "\n",
    "for i in range (10**6):\n",
    "    temp = sum_total\n",
    "    y = math.pi +e\n",
    "    sum_total = sum_total + e\n",
    "    e = (temp - sum_total) + y\n",
    "    \n",
    "end_time = time.time()\n",
    "\n",
    "print(\"Sum: \" + str(sum_total))\n",
    "elapsed_time = end_time - start_time\n",
    "print(\"Elapsed Time: \" + str(elapsed_time))"
   ]
  },
  {
   "cell_type": "code",
   "execution_count": 6,
   "metadata": {},
   "outputs": [
    {
     "name": "stdout",
     "output_type": "stream",
     "text": [
      "Sum: 31415923.394305278\n",
      "Elapsed Time: 4.1822357177734375\n"
     ]
    }
   ],
   "source": [
    "# Compensated Summation approach for N = 10^7:\n",
    "import math;\n",
    "import time;\n",
    "\n",
    "sum_total = 0;\n",
    "e = 0;\n",
    "\n",
    "start_time = time.time()\n",
    "\n",
    "for i in range (10**7):\n",
    "    temp = sum_total\n",
    "    y = math.pi +e\n",
    "    sum_total = sum_total + e\n",
    "    e = (temp - sum_total) + y\n",
    "    \n",
    "end_time = time.time()\n",
    "\n",
    "print(\"Sum: \" + str(sum_total))\n",
    "elapsed_time = end_time - start_time\n",
    "print(\"Elapsed Time: \" + str(elapsed_time))"
   ]
  },
  {
   "cell_type": "code",
   "execution_count": 7,
   "metadata": {},
   "outputs": [
    {
     "name": "stdout",
     "output_type": "stream",
     "text": [
      "Sum: 314159262.21738666\n",
      "Elapsed Time: 41.12408399581909\n"
     ]
    }
   ],
   "source": [
    "# Compensated Summation approach for N = 10^8:\n",
    "import math;\n",
    "import time;\n",
    "\n",
    "sum_total = 0;\n",
    "e = 0;\n",
    "\n",
    "start_time = time.time()\n",
    "\n",
    "for i in range (10**8):\n",
    "    temp = sum_total\n",
    "    y = math.pi +e\n",
    "    sum_total = sum_total + e\n",
    "    e = (temp - sum_total) + y\n",
    "    \n",
    "end_time = time.time()\n",
    "\n",
    "print(\"Sum: \" + str(sum_total))\n",
    "elapsed_time = end_time - start_time\n",
    "print(\"Elapsed Time: \" + str(elapsed_time))"
   ]
  },
  {
   "cell_type": "code",
   "execution_count": 8,
   "metadata": {},
   "outputs": [
    {
     "name": "stdout",
     "output_type": "stream",
     "text": [
      "Sum: 3141592650.4482\n",
      "Elapsed Time: 422.8245921134949\n"
     ]
    }
   ],
   "source": [
    "# Compensated Summation approach for N = 10^9:\n",
    "import math;\n",
    "import time;\n",
    "\n",
    "sum_total = 0;\n",
    "e = 0;\n",
    "\n",
    "start_time = time.time()\n",
    "\n",
    "for i in range (10**9):\n",
    "    temp = sum_total\n",
    "    y = math.pi +e\n",
    "    sum_total = sum_total + e\n",
    "    e = (temp - sum_total) + y\n",
    "    \n",
    "end_time = time.time()\n",
    "\n",
    "print(\"Sum: \" + str(sum_total))\n",
    "elapsed_time = end_time - start_time\n",
    "print(\"Elapsed Time: \" + str(elapsed_time))"
   ]
  },
  {
   "cell_type": "code",
   "execution_count": 9,
   "metadata": {},
   "outputs": [
    {
     "name": "stdout",
     "output_type": "stream",
     "text": [
      "Calculated sum: 3141592.6535849427\n",
      "Elapsed Time for Calculated Sum: 0.18416237831115723\n",
      "Exact Sum: 3141592.653589793\n",
      "Elapsed Time for Exact Sum: 0.0\n",
      "Absolute Error: 4.850327968597412e-06\n",
      "Relative Error: 1.543907343638299e-10\n"
     ]
    }
   ],
   "source": [
    "# Exact value for 10^6\n",
    "import math;\n",
    "import time;\n",
    "\n",
    "sum_total_1 = 0.0\n",
    "\n",
    "start_time = time.time()\n",
    "for i in range (10**6):\n",
    "    sum_total_1 += math.pi\n",
    "end_time = time.time()\n",
    "\n",
    "elapsed_time_n1 = end_time - start_time\n",
    "\n",
    "start_time = time.time()\n",
    "total_1 = (10**6) * math.pi\n",
    "end_time = time.time()\n",
    "\n",
    "elapsed_time_1 = end_time - start_time\n",
    "\n",
    "abs_err_1 = abs(total_1 - sum_total_1)\n",
    "rel_err_1 = (abs_err_1*100)/total_1\n",
    "\n",
    "print(\"Calculated sum: \" + str(sum_total_1))\n",
    "print(\"Elapsed Time for Calculated Sum: \" + str(elapsed_time_n1))\n",
    "print(\"Exact Sum: \" + str(total_1))\n",
    "print(\"Elapsed Time for Exact Sum: \" + str(elapsed_time_1))\n",
    "print(\"Absolute Error: \" + str(abs_err_1))\n",
    "print(\"Relative Error: \" + str(rel_err_1))"
   ]
  },
  {
   "cell_type": "code",
   "execution_count": 10,
   "metadata": {},
   "outputs": [
    {
     "name": "stdout",
     "output_type": "stream",
     "text": [
      "Calculated sum: 31415926.543478474\n",
      "Elapsed Time for Calculated Sum: 1.5400991439819336\n",
      "Exact Sum: 31415926.535897933\n",
      "Elapsed Time for Exact Sum: 0.0\n",
      "Absolute Error: 0.0075805410742759705\n",
      "Relative Error: 2.4129611665643343e-08\n"
     ]
    }
   ],
   "source": [
    "# Exact value for 10^7\n",
    "import math;\n",
    "import time;\n",
    "\n",
    "sum_total_2 = 0.0\n",
    "\n",
    "start_time = time.time()\n",
    "for i in range (10**7):\n",
    "    sum_total_2 += math.pi\n",
    "end_time = time.time()\n",
    "\n",
    "elapsed_time_n2 = end_time - start_time\n",
    "\n",
    "start_time = time.time()\n",
    "total_2 = (10**7) * math.pi\n",
    "end_time = time.time()\n",
    "\n",
    "elapsed_time_2 = end_time - start_time\n",
    "\n",
    "abs_err_2 = abs(total_2 - sum_total_2)\n",
    "rel_err_2 = (abs_err_2*100)/total_2\n",
    "\n",
    "print(\"Calculated sum: \" + str(sum_total_2))\n",
    "print(\"Elapsed Time for Calculated Sum: \" + str(elapsed_time_n2))\n",
    "print(\"Exact Sum: \" + str(total_2))\n",
    "print(\"Elapsed Time for Exact Sum: \" + str(elapsed_time_2))\n",
    "print(\"Absolute Error: \" + str(abs_err_2))\n",
    "print(\"Relative Error: \" + str(rel_err_2))"
   ]
  },
  {
   "cell_type": "code",
   "execution_count": 11,
   "metadata": {},
   "outputs": [
    {
     "name": "stdout",
     "output_type": "stream",
     "text": [
      "Calculated sum: 314159265.624272\n",
      "Elapsed Time for Calculated Sum: 15.104614973068237\n",
      "Exact Sum: 314159265.3589793\n",
      "Elapsed Time for Exact Sum: 0.0\n",
      "Absolute Error: 0.2652927041053772\n",
      "Relative Error: 8.444529044917268e-08\n"
     ]
    }
   ],
   "source": [
    "# Exact value for 10^8\n",
    "import math;\n",
    "import time;\n",
    "\n",
    "sum_total_3 = 0.0\n",
    "\n",
    "start_time = time.time()\n",
    "for i in range (10**8):\n",
    "    sum_total_3 += math.pi\n",
    "end_time = time.time()\n",
    "\n",
    "elapsed_time_n3 = end_time - start_time\n",
    "\n",
    "start_time = time.time()\n",
    "total_3 = (10**8) * math.pi\n",
    "end_time = time.time()\n",
    "\n",
    "elapsed_time_3 = end_time - start_time\n",
    "\n",
    "abs_err_3 = abs(total_3 - sum_total_3)\n",
    "rel_err_3 = (abs_err_3*100)/total_3\n",
    "\n",
    "print(\"Calculated sum: \" + str(sum_total_3))\n",
    "print(\"Elapsed Time for Calculated Sum: \" + str(elapsed_time_n3))\n",
    "print(\"Exact Sum: \" + str(total_3))\n",
    "print(\"Elapsed Time for Exact Sum: \" + str(elapsed_time_3))\n",
    "print(\"Absolute Error: \" + str(abs_err_3))\n",
    "print(\"Relative Error: \" + str(rel_err_3))"
   ]
  },
  {
   "cell_type": "code",
   "execution_count": 12,
   "metadata": {},
   "outputs": [
    {
     "name": "stdout",
     "output_type": "stream",
     "text": [
      "Calculated sum: 3141592632.494384\n",
      "Elapsed Time for Calculated Sum: 152.2397859096527\n",
      "Exact Sum: 3141592653.589793\n",
      "Elapsed Time for Exact Sum: 0.0\n",
      "Absolute Error: 21.095409393310547\n",
      "Relative Error: 6.714877362985149e-07\n"
     ]
    }
   ],
   "source": [
    "# Exact value for 10^9\n",
    "import math;\n",
    "import time;\n",
    "\n",
    "sum_total_4 = 0.0\n",
    "\n",
    "start_time = time.time()\n",
    "for i in range (10**9):\n",
    "    sum_total_4 += math.pi\n",
    "end_time = time.time()\n",
    "\n",
    "elapsed_time_n4 = end_time - start_time\n",
    "\n",
    "start_time = time.time()\n",
    "total_4 = (10**9) * math.pi\n",
    "end_time = time.time()\n",
    "\n",
    "elapsed_time_4 = end_time - start_time\n",
    "\n",
    "abs_err_4 = abs(total_4 - sum_total_4)\n",
    "rel_err_4 = (abs_err_4*100)/total_4\n",
    "\n",
    "print(\"Calculated sum: \" + str(sum_total_4))\n",
    "print(\"Elapsed Time for Calculated Sum: \" + str(elapsed_time_n4))\n",
    "print(\"Exact Sum: \" + str(total_4))\n",
    "print(\"Elapsed Time for Exact Sum: \" + str(elapsed_time_4))\n",
    "print(\"Absolute Error: \" + str(abs_err_4))\n",
    "print(\"Relative Error: \" + str(rel_err_4))"
   ]
  },
  {
   "cell_type": "code",
   "execution_count": 13,
   "metadata": {},
   "outputs": [
    {
     "data": {
      "text/html": [
       "<div>\n",
       "<style scoped>\n",
       "    .dataframe tbody tr th:only-of-type {\n",
       "        vertical-align: middle;\n",
       "    }\n",
       "\n",
       "    .dataframe tbody tr th {\n",
       "        vertical-align: top;\n",
       "    }\n",
       "\n",
       "    .dataframe thead th {\n",
       "        text-align: right;\n",
       "    }\n",
       "</style>\n",
       "<table border=\"1\" class=\"dataframe\">\n",
       "  <thead>\n",
       "    <tr style=\"text-align: right;\">\n",
       "      <th></th>\n",
       "      <th>Calculated Sum</th>\n",
       "      <th>Exact Sum</th>\n",
       "      <th>Absolute Error</th>\n",
       "      <th>Relative Error</th>\n",
       "      <th>Calculated Elapsed Time</th>\n",
       "      <th>Exact Elapsed Time</th>\n",
       "    </tr>\n",
       "  </thead>\n",
       "  <tbody>\n",
       "    <tr>\n",
       "      <th>N = 10^6</th>\n",
       "      <td>3141592.6535849427</td>\n",
       "      <td>3141592.653589793</td>\n",
       "      <td>4.850327968597412e-06</td>\n",
       "      <td>1.543907343638299e-10</td>\n",
       "      <td>0.18416237831115723</td>\n",
       "      <td>0.0</td>\n",
       "    </tr>\n",
       "    <tr>\n",
       "      <th>N = 10^7</th>\n",
       "      <td>31415926.543478474</td>\n",
       "      <td>31415926.535897933</td>\n",
       "      <td>0.0075805410742759705</td>\n",
       "      <td>2.4129611665643343e-08</td>\n",
       "      <td>1.5400991439819336</td>\n",
       "      <td>0.0</td>\n",
       "    </tr>\n",
       "    <tr>\n",
       "      <th>N = 10^8</th>\n",
       "      <td>314159265.624272</td>\n",
       "      <td>314159265.3589793</td>\n",
       "      <td>0.2652927041053772</td>\n",
       "      <td>8.444529044917268e-08</td>\n",
       "      <td>15.104614973068237</td>\n",
       "      <td>0.0</td>\n",
       "    </tr>\n",
       "    <tr>\n",
       "      <th>N = 10^9</th>\n",
       "      <td>3141592632.494384</td>\n",
       "      <td>3141592653.589793</td>\n",
       "      <td>21.095409393310547</td>\n",
       "      <td>6.714877362985149e-07</td>\n",
       "      <td>152.2397859096527</td>\n",
       "      <td>0.0</td>\n",
       "    </tr>\n",
       "  </tbody>\n",
       "</table>\n",
       "</div>"
      ],
      "text/plain": [
       "              Calculated Sum           Exact Sum         Absolute Error  \\\n",
       "N = 10^6  3141592.6535849427   3141592.653589793  4.850327968597412e-06   \n",
       "N = 10^7  31415926.543478474  31415926.535897933  0.0075805410742759705   \n",
       "N = 10^8    314159265.624272   314159265.3589793     0.2652927041053772   \n",
       "N = 10^9   3141592632.494384   3141592653.589793     21.095409393310547   \n",
       "\n",
       "                  Relative Error Calculated Elapsed Time Exact Elapsed Time  \n",
       "N = 10^6   1.543907343638299e-10     0.18416237831115723                0.0  \n",
       "N = 10^7  2.4129611665643343e-08      1.5400991439819336                0.0  \n",
       "N = 10^8   8.444529044917268e-08      15.104614973068237                0.0  \n",
       "N = 10^9   6.714877362985149e-07       152.2397859096527                0.0  "
      ]
     },
     "execution_count": 13,
     "metadata": {},
     "output_type": "execute_result"
    }
   ],
   "source": [
    "import pandas as pd\n",
    "import numpy as np\n",
    " \n",
    "#Create a DataFrame\n",
    "d = {\n",
    "    'Calculated Sum':[str(sum_total_1),str(sum_total_2),str(sum_total_3),str(sum_total_4)],\n",
    "    'Exact Sum':[str(total_1),str(total_2),str(total_3),str(total_4)],\n",
    "    'Absolute Error':[str(abs_err_1),str(abs_err_2),str(abs_err_3),str(abs_err_4)],\n",
    "    'Relative Error':[str(rel_err_1),str(rel_err_2),str(rel_err_3),str(rel_err_4)],\n",
    "    'Calculated Elapsed Time':[str(elapsed_time_n1),str(elapsed_time_n2),str(elapsed_time_n3),str(elapsed_time_n4)],\n",
    "    'Exact Elapsed Time':[str(elapsed_time_1),str(elapsed_time_2),str(elapsed_time_3),str(elapsed_time_4)]\n",
    "}\n",
    " \n",
    "df = pd.DataFrame(d,columns=['Calculated Sum','Exact Sum','Absolute Error','Relative Error','Calculated Elapsed Time', 'Exact Elapsed Time'],index=['N = 10^6', 'N = 10^7', 'N = 10^8', 'N = 10^9'])\n",
    "df"
   ]
  },
  {
   "cell_type": "markdown",
   "metadata": {},
   "source": [
    "As seen from above, as N increases, both absolute and relative error increases. This was expected, since every additional number added to the sum will generate some error that will contribute to the overall error. The table also shows that perhaps accuracy maybe more important than speed in some applications, so the analyst must take this into account when performing calculations."
   ]
  }
 ],
 "metadata": {
  "kernelspec": {
   "display_name": "Python 3",
   "language": "python",
   "name": "python3"
  },
  "language_info": {
   "codemirror_mode": {
    "name": "ipython",
    "version": 3
   },
   "file_extension": ".py",
   "mimetype": "text/x-python",
   "name": "python",
   "nbconvert_exporter": "python",
   "pygments_lexer": "ipython3",
   "version": "3.7.2"
  }
 },
 "nbformat": 4,
 "nbformat_minor": 2
}
