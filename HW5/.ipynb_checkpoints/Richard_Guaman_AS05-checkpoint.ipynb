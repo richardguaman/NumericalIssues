{
 "cells": [
  {
   "cell_type": "markdown",
   "metadata": {},
   "source": [
    "Using as many methods as you reasonably can, calculate the value of:\n",
    "$$ \\int_{0.4 radians}^{1.6 radians}(sin(x) + cos(x)) dx $$\n",
    "Determine the absolute and relative errors for your results."
   ]
  },
  {
   "cell_type": "code",
   "execution_count": 1,
   "metadata": {},
   "outputs": [
    {
     "name": "stdout",
     "output_type": "stream",
     "text": [
      "___________________________________________________________________________\n",
      "Calculated value of the function:                1.3685120502310513\n",
      "Exact value of the function:                     1.5604157770370284\n",
      "Absolute error for the above calculations:       0.19190372680597712\n",
      "Relative error for the above calculations:       0.12298243175313862\n",
      "___________________________________________________________________________\n"
     ]
    }
   ],
   "source": [
    "# Method 1: Trapezoidal rule\n",
    "import math\n",
    "from math import cos, sin\n",
    "# sec_der is not needed. This function can be made more general if second derivative was calculated in function.\n",
    "def trap(function, a, b):\n",
    "    h = b - a\n",
    "    return ((h/2)*(function(a) + function(b)))\n",
    "\n",
    "# Used lambda to make the function as general as possible.\n",
    "calculated_val = trap(lambda x: (sin(x) + cos(x)), 0.4, 1.6)\n",
    "exact_value = -cos(1.6) + sin(1.6) + cos(0.4) - sin(0.4)\n",
    "abs_err = abs(calculated_val - exact_value)\n",
    "rel_err = abs_err/abs(exact_value)\n",
    "\n",
    "print(\"___________________________________________________________________________\")\n",
    "print(\"Calculated value of the function:                \" + str(calculated_val))\n",
    "print(\"Exact value of the function:                     \" + str(exact_value))\n",
    "print(\"Absolute error for the above calculations:       \" + str(abs_err))\n",
    "print(\"Relative error for the above calculations:       \" + str(rel_err))\n",
    "print(\"___________________________________________________________________________\")"
   ]
  },
  {
   "cell_type": "markdown",
   "metadata": {},
   "source": [
    "As expected, the results are somwewhat accurate, but still contain a notable error. This is likely due to the curves that sin(x) and cos(x) tend to follow. "
   ]
  },
  {
   "cell_type": "code",
   "execution_count": 2,
   "metadata": {},
   "outputs": [
    {
     "name": "stdout",
     "output_type": "stream",
     "text": [
      "___________________________________________________________________________\n",
      "Calculated value of the function:                1.5615893159511798\n",
      "Exact value of the function:                     1.5604157770370284\n",
      "Absolute error for the above calculations:       0.0011735389141513952\n",
      "Relative error for the above calculations:       0.0007520680907108948\n",
      "___________________________________________________________________________\n"
     ]
    }
   ],
   "source": [
    "# Method 2: Simpson's rule\n",
    "def sim(function, a, b):\n",
    "        h = (b - a)/2\n",
    "        c = a + h\n",
    "        return ((h/3)*(function(a) + function(b) +  4*function(c)))\n",
    "\n",
    "calculated_val = sim(lambda x: (sin(x) + cos(x)), 0.4, 1.6)\n",
    "exact_value = -cos(1.6) + sin(1.6) + cos(0.4) - sin(0.4)\n",
    "abs_err = abs(calculated_val - exact_value)\n",
    "rel_err = abs_err/abs(exact_value)\n",
    "\n",
    "print(\"___________________________________________________________________________\")\n",
    "print(\"Calculated value of the function:                \" + str(calculated_val))\n",
    "print(\"Exact value of the function:                     \" + str(exact_value))\n",
    "print(\"Absolute error for the above calculations:       \" + str(abs_err))\n",
    "print(\"Relative error for the above calculations:       \" + str(rel_err))\n",
    "print(\"___________________________________________________________________________\")"
   ]
  },
  {
   "cell_type": "markdown",
   "metadata": {},
   "source": [
    "These results were expected since Simpson's rule is of a higher degree of precision than the trapezoidal rule. "
   ]
  },
  {
   "cell_type": "code",
   "execution_count": 4,
   "metadata": {},
   "outputs": [
    {
     "name": "stdout",
     "output_type": "stream",
     "text": [
      "___________________________________________________________________________\n",
      "Calculated value of the function:                1.5609348508685277\n",
      "Exact value of the function:                     1.5604157770370284\n",
      "Absolute error for the above calculations:       0.0005190738314992949\n",
      "Relative error for the above calculations:       0.0003326509761936208\n",
      "___________________________________________________________________________\n"
     ]
    }
   ],
   "source": [
    "# Method 3: Closed Newton - Cotes formula, Simpson's three-eighths rule\n",
    "def sim_3(function, a, b):\n",
    "        h = (b - a)/3\n",
    "        c = a + h\n",
    "        d = a + h*2\n",
    "        return ((3*h/8)*(function(a) + function(b) +  3*function(c) + 3*function(d)))\n",
    "\n",
    "calculated_val = sim_3(lambda x: (sin(x) + cos(x)), 0.4, 1.6)\n",
    "exact_value = -cos(1.6) + sin(1.6) + cos(0.4) - sin(0.4)\n",
    "abs_err = abs(calculated_val - exact_value)\n",
    "rel_err = abs_err/abs(exact_value)\n",
    "\n",
    "print(\"___________________________________________________________________________\")\n",
    "print(\"Calculated value of the function:                \" + str(calculated_val))\n",
    "print(\"Exact value of the function:                     \" + str(exact_value))\n",
    "print(\"Absolute error for the above calculations:       \" + str(abs_err))\n",
    "print(\"Relative error for the above calculations:       \" + str(rel_err))\n",
    "print(\"___________________________________________________________________________\")"
   ]
  },
  {
   "cell_type": "markdown",
   "metadata": {},
   "source": [
    "These results were as expected, primarily because it was expected for this calculation to be more accurate than the previous one. However, with the addition of an error term to the previous result, it could be made much more accurate, if the given function is bounded. In this case since the function are just sine and cosine, we know they are bounded and that the error term can be derived."
   ]
  },
  {
   "cell_type": "code",
   "execution_count": 5,
   "metadata": {},
   "outputs": [
    {
     "name": "stdout",
     "output_type": "stream",
     "text": [
      "___________________________________________________________________________\n",
      "Calculated value of the function:                1.5609348508685277\n",
      "Exact value of the function:                     1.5604157770370284\n",
      "Absolute error for the above calculations:       0.0005190738314992949\n",
      "Relative error for the above calculations:       0.0003326509761936208\n",
      "___________________________________________________________________________\n"
     ]
    }
   ],
   "source": [
    "# Method 4: Closed Newton - Cotes formula, n = 4\n",
    "def Newton_Cotes4(function, a, b):\n",
    "        h = (b - a)/4\n",
    "        c = a + h\n",
    "        d = c + h\n",
    "        e = d + h\n",
    "        return ((2*h/45)*(7*function(a) + 7*function(b) +  32*function(c) + 12*function(d) + 32*function(e)))\n",
    "\n",
    "calculated_val = sim_3(lambda x: (sin(x) + cos(x)), 0.4, 1.6)\n",
    "exact_value = -cos(1.6) + sin(1.6) + cos(0.4) - sin(0.4)\n",
    "abs_err = abs(calculated_val - exact_value)\n",
    "rel_err = abs_err/abs(exact_value)\n",
    "\n",
    "print(\"___________________________________________________________________________\")\n",
    "\n",
    "print(\"Calculated value of the function:                \" + str(calculated_val))\n",
    "print(\"Exact value of the function:                     \" + str(exact_value))\n",
    "print(\"Absolute error for the above calculations:       \" + str(abs_err))\n",
    "print(\"Relative error for the above calculations:       \" + str(rel_err))\n",
    "print(\"___________________________________________________________________________\")"
   ]
  },
  {
   "cell_type": "markdown",
   "metadata": {},
   "source": [
    "These results were as expected since it is as accurate as Simpson's three-eighths rule."
   ]
  },
  {
   "cell_type": "code",
   "execution_count": 6,
   "metadata": {},
   "outputs": [
    {
     "name": "stdout",
     "output_type": "stream",
     "text": [
      "___________________________________________________________________________\n",
      "Calculated value of the function:                1.6581279488112437\n",
      "Exact value of the function:                     1.5604157770370284\n",
      "Absolute error for the above calculations:       0.09771217177421532\n",
      "Relative error for the above calculations:       0.06261931801263544\n",
      "___________________________________________________________________________\n"
     ]
    }
   ],
   "source": [
    "# Method 5: Open Newton-Cotes, n=0\n",
    "\n",
    "# sec_der is not needed. This function can be made more general if second derivative was calculated in function.\n",
    "def midpoint(function, a, b):\n",
    "    h = (b - a)/2\n",
    "    return (2*h*function(a+h))\n",
    "\n",
    "# Used lambda to make the function as general as possible.\n",
    "calculated_val = midpoint(lambda x: (sin(x) + cos(x)), 0.4, 1.6)\n",
    "exact_value = -cos(1.6) + sin(1.6) + cos(0.4) - sin(0.4)\n",
    "abs_err = abs(calculated_val - exact_value)\n",
    "rel_err = abs_err/abs(exact_value)\n",
    "\n",
    "print(\"___________________________________________________________________________\")\n",
    "print(\"Calculated value of the function:                \" + str(calculated_val))\n",
    "print(\"Exact value of the function:                     \" + str(exact_value))\n",
    "print(\"Absolute error for the above calculations:       \" + str(abs_err))\n",
    "print(\"Relative error for the above calculations:       \" + str(rel_err))\n",
    "print(\"___________________________________________________________________________\")"
   ]
  },
  {
   "cell_type": "markdown",
   "metadata": {},
   "source": [
    "This method is about as accurate as the trapezoidal rule, although slightly moreso, which was expected."
   ]
  },
  {
   "cell_type": "code",
   "execution_count": 7,
   "metadata": {},
   "outputs": [
    {
     "name": "stdout",
     "output_type": "stream",
     "text": [
      "___________________________________________________________________________\n",
      "Calculated value of the function:                1.5602604974327832\n",
      "Exact value of the function:                     1.5604157770370284\n",
      "Absolute error for the above calculations:       0.00015527960424521758\n",
      "Relative error for the above calculations:       9.951168562270492e-05\n",
      "___________________________________________________________________________\n"
     ]
    }
   ],
   "source": [
    "# Method 6: Composite Simpson's Rule\n",
    "def com_sim(function, a, b, n):\n",
    "    h = (b-a)/n\n",
    "    even_sum = 0\n",
    "    odd_sum = 0\n",
    "    for i in range (1, n-1):\n",
    "        x = a + i*h\n",
    "        if i % 2 == 0:\n",
    "            even_sum = even_sum + function(x)\n",
    "        else:\n",
    "            odd_sum = odd_sum + function(x)\n",
    "    return((h/3)*(function(a) + 4*odd_sum + 2*even_sum + function(b)))\n",
    "\n",
    "# Used lambda to make the function as general as possible.\n",
    "calculated_val = com_sim(lambda x: (sin(x) + cos(x)), 0.4, 1.6,10000)\n",
    "exact_value = -cos(1.6) + sin(1.6) + cos(0.4) - sin(0.4)\n",
    "abs_err = abs(calculated_val - exact_value)\n",
    "rel_err = abs_err/abs(exact_value)\n",
    "\n",
    "print(\"___________________________________________________________________________\")\n",
    "print(\"Calculated value of the function:                \" + str(calculated_val))\n",
    "print(\"Exact value of the function:                     \" + str(exact_value))\n",
    "print(\"Absolute error for the above calculations:       \" + str(abs_err))\n",
    "print(\"Relative error for the above calculations:       \" + str(rel_err))\n",
    "print(\"___________________________________________________________________________\")"
   ]
  },
  {
   "cell_type": "markdown",
   "metadata": {},
   "source": [
    "Simpson's composite rule is accurate, more than the previous Simpson's rule that was used. It was difficult to determine which one would be more accurate."
   ]
  },
  {
   "cell_type": "code",
   "execution_count": 8,
   "metadata": {},
   "outputs": [
    {
     "name": "stdout",
     "output_type": "stream",
     "text": [
      "___________________________________________________________________________\n",
      "Calculated value of the function:                1.5602993154613458\n",
      "Exact value of the function:                     1.5604157770370284\n",
      "Absolute error for the above calculations:       0.00011646157568256932\n",
      "Relative error for the above calculations:       7.463496421685162e-05\n",
      "___________________________________________________________________________\n"
     ]
    }
   ],
   "source": [
    "# Method 7: Composite Trapezoidal Rule\n",
    "def com_trap(function, a, b, n):\n",
    "    h = (b-a)/n\n",
    "    fun_sum = 0\n",
    "    for i in range(1,n-1):\n",
    "        x = a + i*h\n",
    "        fun_sum = fun_sum + function(x)\n",
    "    return((h/2)*(function(a) + function(b) + 2 * fun_sum))\n",
    "\n",
    "# Used lambda to make the function as general as possible.\n",
    "calculated_val = com_trap(lambda x: (sin(x) + cos(x)), 0.4, 1.6,10000)\n",
    "exact_value = -cos(1.6) + sin(1.6) + cos(0.4) - sin(0.4)\n",
    "abs_err = abs(calculated_val - exact_value)\n",
    "rel_err = abs_err/abs(exact_value)\n",
    "\n",
    "print(\"___________________________________________________________________________\")\n",
    "print(\"Calculated value of the function:                \" + str(calculated_val))\n",
    "print(\"Exact value of the function:                     \" + str(exact_value))\n",
    "print(\"Absolute error for the above calculations:       \" + str(abs_err))\n",
    "print(\"Relative error for the above calculations:       \" + str(rel_err))\n",
    "print(\"___________________________________________________________________________\")"
   ]
  },
  {
   "cell_type": "raw",
   "metadata": {},
   "source": [
    "This method was slighty more accurate than the previous method, which was expected since the trapezoidal approximation tend to be good for functions that are curved, if n is large enough."
   ]
  },
  {
   "cell_type": "code",
   "execution_count": 9,
   "metadata": {},
   "outputs": [
    {
     "name": "stdout",
     "output_type": "stream",
     "text": [
      "___________________________________________________________________________\n",
      "Calculated value of the function:                1.6646534243432036\n",
      "Exact value of the function:                     1.5604157770370284\n",
      "Absolute error for the above calculations:       0.10423764730617524\n",
      "Relative error for the above calculations:       0.0668012005775187\n",
      "___________________________________________________________________________\n"
     ]
    }
   ],
   "source": [
    "# Method 8: Composite Midpoint Rule\n",
    "def com_mid(function, a, b, n):\n",
    "    h = (b-a)/n\n",
    "    fun_sum = 0\n",
    "    for i in range (2, int( (n/2) -1)):\n",
    "        x = a + i*h\n",
    "        fun_sum = fun_sum + function(x)\n",
    "    return(2*h*fun_sum)\n",
    "\n",
    "# Used lambda to make the function as general as possible.\n",
    "calculated_val = com_mid(lambda x: (sin(x) + cos(x)), 0.4, 1.6,10000)\n",
    "exact_value = -cos(1.6) + sin(1.6) + cos(0.4) - sin(0.4)\n",
    "abs_err = abs(calculated_val - exact_value)\n",
    "rel_err = abs_err/abs(exact_value)\n",
    "\n",
    "print(\"___________________________________________________________________________\")\n",
    "print(\"Calculated value of the function:                \" + str(calculated_val))\n",
    "print(\"Exact value of the function:                     \" + str(exact_value))\n",
    "print(\"Absolute error for the above calculations:       \" + str(abs_err))\n",
    "print(\"Relative error for the above calculations:       \" + str(rel_err))\n",
    "print(\"___________________________________________________________________________\")"
   ]
  },
  {
   "cell_type": "markdown",
   "metadata": {},
   "source": [
    "The results were as expected. The midpoint rule does not do well for functions that are curved, especially compared to the trapezoidal approximation."
   ]
  }
 ],
 "metadata": {
  "kernelspec": {
   "display_name": "Python 3",
   "language": "python",
   "name": "python3"
  },
  "language_info": {
   "codemirror_mode": {
    "name": "ipython",
    "version": 3
   },
   "file_extension": ".py",
   "mimetype": "text/x-python",
   "name": "python",
   "nbconvert_exporter": "python",
   "pygments_lexer": "ipython3",
   "version": "3.7.2"
  }
 },
 "nbformat": 4,
 "nbformat_minor": 2
}
