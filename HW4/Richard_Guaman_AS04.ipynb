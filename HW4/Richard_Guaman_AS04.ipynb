{
 "cells": [
  {
   "cell_type": "markdown",
   "metadata": {},
   "source": [
    "Using at least four different methods, calculate the values of $cos(x)$ and $\\frac{d(cos(x))}{dx}$ for x = 1.0 radians."
   ]
  },
  {
   "cell_type": "code",
   "execution_count": 1,
   "metadata": {},
   "outputs": [
    {
     "name": "stdout",
     "output_type": "stream",
     "text": [
      "__________________________________________________________________________\n",
      "Calculated value of cos(x) at x = 1:       0.5403023432410294\n",
      "Exact value of cos(x) at x = 1:            0.5403023058681398\n",
      "Absolute error for the above calculations: 3.737288967187169e-08\n",
      "Relative error for the above calculations: 6.917033161985524e-08\n",
      "___________________________________________________________________________\n",
      "Calculated value of -sin(x) at x = 1:       -0.8414709826590857\n",
      "Exact value of -sin(x) at x = 1:            -0.8414709848078965\n",
      "Absolute error for the above calculations: 2.1488107959655167e-09\n",
      "Relative error for the above calculations: 2.553636233168609e-09\n",
      "___________________________________________________________________________\n"
     ]
    }
   ],
   "source": [
    "# Method 1: Lagrange Interpolating Polynomial\n",
    "import math;\n",
    "from math import sin, cos, pi, sqrt\n",
    "# This formula takes 3 parameters: an array of x values, another array of f(x) values, \n",
    "# and a value that we would like to find that falls within the range of the\n",
    "# known values.\n",
    "def lagrange(x_val,y_val,x):\n",
    "    running_sum = 0\n",
    "    for i in range(0, len(y_val)):\n",
    "        numerator = 1\n",
    "        denominator = 1\n",
    "        for j in range(0,len(x_val)):\n",
    "            if(i == j):\n",
    "                continue \n",
    "            else:\n",
    "                numerator = numerator * (x - x_val[j])\n",
    "                denominator = denominator*(x_val[i] - x_val[j])            \n",
    "        running_sum = running_sum + y_val[i] * numerator /denominator\n",
    "    return running_sum\n",
    "\n",
    "# We know the values of cos(x) at the following points:\n",
    "x_val = [0, pi/6, pi/4, pi/3, pi/2, 2*pi/3, 3*pi/4, 5*pi/6,pi]\n",
    "y_val = [1, sqrt(3)/2, sqrt(2)/2, 1/2, 0, -1/2, -sqrt(2)/2, -sqrt(3)/2, -1]\n",
    "\n",
    "calculated_cos = lagrange(x_val,y_val,1)\n",
    "abs_err_cos = abs(calculated_cos - cos(1))\n",
    "rel_err_cos = abs_err_cos/abs(cos(1))\n",
    "\n",
    "# We know the values of -sin(x) (derivative of cos(x)) at the following points:\n",
    "x_vals = [0, pi/6, pi/4, pi/3, pi/2, 2*pi/3, 3*pi/4, 5*pi/6,pi]\n",
    "y_vals = [0, -0.5, -sqrt(2)/2, -sqrt(3)/2, -1, -sqrt(3)/2,-sqrt(2)/2,-0.5, 0]\n",
    "\n",
    "calculated_der_cos = lagrange(x_vals, y_vals,1)\n",
    "abs_err_sin = abs(calculated_der_cos + sin(1))\n",
    "rel_err_sin = abs_err_sin/abs(sin(1))\n",
    "\n",
    "print(\"__________________________________________________________________________\")\n",
    "print(\"Calculated value of cos(x) at x = 1:       \" + str(calculated_cos))\n",
    "print(\"Exact value of cos(x) at x = 1:            \" + str(cos(1)))\n",
    "print(\"Absolute error for the above calculations: \" + str(abs_err_cos))\n",
    "print(\"Relative error for the above calculations: \" + str(rel_err_cos))\n",
    "print(\"___________________________________________________________________________\")\n",
    "print(\"Calculated value of -sin(x) at x = 1:       \" + str(calculated_der_cos))\n",
    "print(\"Exact value of -sin(x) at x = 1:            \" + str(-sin(1)))\n",
    "print(\"Absolute error for the above calculations: \" + str(abs_err_sin))\n",
    "print(\"Relative error for the above calculations: \" + str(rel_err_sin))\n",
    "print(\"___________________________________________________________________________\")"
   ]
  },
  {
   "cell_type": "markdown",
   "metadata": {},
   "source": [
    "The results above were expected since a large number of points were provided between -1 and 1 for both cos(x) and its derivative. As a result of providing a large of points, the calculated results were much closer to the actual results for both cos(x) and its derivative at x = 1."
   ]
  },
  {
   "cell_type": "code",
   "execution_count": 2,
   "metadata": {},
   "outputs": [
    {
     "name": "stdout",
     "output_type": "stream",
     "text": [
      "__________________________________________________________________________\n",
      "Calculated value of cos(x) at x = 1:       0.5373374933776157\n",
      "Exact value of cos(x) at x = 1:            0.5403023058681398\n",
      "Absolute error for the above calculations: 0.002964812490524049\n",
      "Relative error for the above calculations: 0.00548732155743864\n",
      "___________________________________________________________________________\n",
      "Calculated value of -sin(x) at x = 1:       -0.8373753374523083\n",
      "Exact value of -sin(x) at x = 1:            -0.8414709848078965\n",
      "Absolute error for the above calculations: 0.004095647355588206\n",
      "Relative error for the above calculations: 0.004867247272374128\n",
      "___________________________________________________________________________\n"
     ]
    }
   ],
   "source": [
    "# Method 2: Piece-wise Linear Interpolation\n",
    "# The given function works correctly for an x_val array that is sorted.\n",
    "def pli(x_val,y_val,target):\n",
    "    approximation = 0\n",
    "    if(target < x_val[0] or target >  x_val[len(x_val)-1]):\n",
    "        print('The target x value must be between the given x domain.')\n",
    "        return\n",
    "    if(target == x_val[0]):\n",
    "        return y_val[0]\n",
    "    if(target == x_val[len(x_val)-1]):\n",
    "        return y_val[len(y_val)]\n",
    "    for i in range (0, len(x_val)):\n",
    "        if(target >= x_val[i] and target <= x_val[i+1]):\n",
    "            slope = 0\n",
    "            b = 0\n",
    "            slope = (y_val[i+1] - y_val[i])/ (x_val[i+1]-x_val[i])\n",
    "            b = y_val[i] - (slope*x_val[i])\n",
    "            approximation = slope*target + b\n",
    "            return approximation\n",
    "\n",
    "# Using the same array as before for the values of cos(x)\n",
    "calculated_cos = pli(x_val, y_val, 1)\n",
    "abs_err_cos = abs(calculated_cos - cos(1))\n",
    "rel_err_cos = abs_err_cos/abs(cos(1))\n",
    "# Using the same array as before for -sin(x)\n",
    "calculated_der_cos = pli(x_vals,y_vals,1)\n",
    "abs_err_sin = abs(calculated_der_cos + sin(1))\n",
    "rel_err_sin = abs_err_sin/abs(sin(1))\n",
    "print(\"__________________________________________________________________________\")\n",
    "print(\"Calculated value of cos(x) at x = 1:       \" + str(calculated_cos))\n",
    "print(\"Exact value of cos(x) at x = 1:            \" + str(cos(1)))\n",
    "print(\"Absolute error for the above calculations: \" + str(abs_err_cos))\n",
    "print(\"Relative error for the above calculations: \" + str(rel_err_cos))\n",
    "print(\"___________________________________________________________________________\")\n",
    "print(\"Calculated value of -sin(x) at x = 1:       \" + str(calculated_der_cos))\n",
    "print(\"Exact value of -sin(x) at x = 1:            \" + str(-sin(1)))\n",
    "print(\"Absolute error for the above calculations: \" + str(abs_err_sin))\n",
    "print(\"Relative error for the above calculations: \" + str(rel_err_sin))\n",
    "print(\"___________________________________________________________________________\")"
   ]
  },
  {
   "cell_type": "markdown",
   "metadata": {},
   "source": [
    "Piecewise linear interpolation is one of the simplest interpolation methods available. This simplicity comes at cost, as seen in the results above. This was expected and although the calculated results are fairly close to the actual measurements for cos(x) and it's derivative, it is no where as accurate as the first method, Lagrange's method, where all the inputs played some role in finding the actual value of a given point."
   ]
  },
  {
   "cell_type": "code",
   "execution_count": 3,
   "metadata": {},
   "outputs": [
    {
     "name": "stdout",
     "output_type": "stream",
     "text": [
      "__________________________________________________________________________\n",
      "Calculated value of cos(x) at x = 1:       0.5403023432410294\n",
      "Exact value of cos(x) at x = 1:            0.5403023058681398\n",
      "Absolute error for the above calculations: 3.737288967187169e-08\n",
      "Relative error for the above calculations: 6.917033161985524e-08\n",
      "___________________________________________________________________________\n",
      "Calculated value of -sin(x) at x = 1:       -0.8414709826590858\n",
      "Exact value of -sin(x) at x = 1:            -0.8414709848078965\n",
      "Absolute error for the above calculations: 2.1488106849432143e-09\n",
      "Relative error for the above calculations: 2.5536361012302482e-09\n",
      "___________________________________________________________________________\n"
     ]
    }
   ],
   "source": [
    "# Method 3: Netwon's Divided Difference Method\n",
    "\n",
    "def ndd(x_val, y_val, target):\n",
    "    calculated_sum = 0\n",
    "    temp_var = len(x_val) - 1\n",
    "    temp = 0\n",
    "    num_arr = []\n",
    "    values = []\n",
    "    for i in range(0, len(y_val)):\n",
    "        num_arr += [y_val[i]]\n",
    "    for i in range (0, len(x_val)-1):\n",
    "        temp2 = i + 1\n",
    "        for j in range (0, temp_var):\n",
    "            num_arr.append((num_arr[temp + 1] - num_arr[temp])/(x_val[temp2] - x_val[j]))\n",
    "            values.append((num_arr[temp + 1] - num_arr[temp])/(x_val[temp2] - x_val[j]))\n",
    "            temp = temp + 1\n",
    "            temp2 = temp2 + 1\n",
    "        temp = temp + 1\n",
    "        temp_var = temp_var - 1\n",
    "    \n",
    "    temp_product = 1\n",
    "    temp2 = 2\n",
    "    temp = len(values) - 1\n",
    "    temp_var = len(x_val) - 1 \n",
    "    for i in range (0, len(x_val)-1): \n",
    "        for j in range (0, temp_var):\n",
    "            temp_product = temp_product * (target - x_val[j])\n",
    "        calculated_sum = calculated_sum + values[temp] * temp_product\n",
    "        temp = temp - temp2\n",
    "        temp2 = temp2 + 1\n",
    "        temp_product = 1\n",
    "        temp_var = temp_var - 1\n",
    "    calculated_sum = calculated_sum + y_val[0]\n",
    "    return calculated_sum\n",
    "\n",
    "# Using the same array as before for the values of cos(x)\n",
    "calculated_cos = ndd(x_val, y_val, 1)\n",
    "abs_err_cos = abs(calculated_cos - cos(1))\n",
    "rel_err_cos = abs_err_cos/abs(cos(1))\n",
    "# Using the same array as before for -sin(x)\n",
    "calculated_der_cos = ndd(x_vals,y_vals,1)\n",
    "abs_err_sin = abs(calculated_der_cos + sin(1))\n",
    "rel_err_sin = abs_err_sin/abs(sin(1))\n",
    "print(\"__________________________________________________________________________\")\n",
    "print(\"Calculated value of cos(x) at x = 1:       \" + str(calculated_cos))\n",
    "print(\"Exact value of cos(x) at x = 1:            \" + str(cos(1)))\n",
    "print(\"Absolute error for the above calculations: \" + str(abs_err_cos))\n",
    "print(\"Relative error for the above calculations: \" + str(rel_err_cos))\n",
    "print(\"___________________________________________________________________________\")\n",
    "print(\"Calculated value of -sin(x) at x = 1:       \" + str(calculated_der_cos))\n",
    "print(\"Exact value of -sin(x) at x = 1:            \" + str(-sin(1)))\n",
    "print(\"Absolute error for the above calculations: \" + str(abs_err_sin))\n",
    "print(\"Relative error for the above calculations: \" + str(rel_err_sin))\n",
    "print(\"___________________________________________________________________________\")"
   ]
  },
  {
   "cell_type": "markdown",
   "metadata": {},
   "source": [
    "Newton's divided difference technique is quite accurate when a decent number of points are specified. It is on par with Larange's interpolation method for both cos(x) and its derivative and come within the same degree of accuracy as that method. "
   ]
  },
  {
   "cell_type": "code",
   "execution_count": 4,
   "metadata": {},
   "outputs": [
    {
     "name": "stdout",
     "output_type": "stream",
     "text": [
      "__________________________________________________________________________\n",
      "Calculated value of cos(x) at x = 1:       0.5403023432410293\n",
      "Exact value of cos(x) at x = 1:            0.5403023058681398\n",
      "Absolute error for the above calculations: 3.737288956084939e-08\n",
      "Relative error for the above calculations: 6.917033141437343e-08\n",
      "___________________________________________________________________________\n",
      "Calculated value of -sin(x) at x = 1:       -0.8414709826590858\n",
      "Exact value of -sin(x) at x = 1:            -0.8414709848078965\n",
      "Absolute error for the above calculations: 2.1488106849432143e-09\n",
      "Relative error for the above calculations: 2.5536361012302482e-09\n",
      "___________________________________________________________________________\n"
     ]
    }
   ],
   "source": [
    "# Method 4: Neville's Method\n",
    "def nev(x_val, y_val, target):\n",
    "    calculated_sum = 0\n",
    "    temp = 1\n",
    "    coef_arr = []\n",
    "    for i in range(0, len(y_val)):\n",
    "        coef_arr += [y_val[i]]\n",
    "    arr_len = len(x_val)\n",
    "    res_len = arr_len - 1\n",
    "    for i in range (arr_len, 0, -1):\n",
    "        for j in range (0, res_len):\n",
    "            coef_arr[j] = ((target - x_val[j+temp])*coef_arr[j] - (target - x_val[j])*coef_arr[j+1])/(x_val[j] - x_val[j+temp])        \n",
    "        res_len = res_len - 1\n",
    "        temp = temp + 1\n",
    "    return(coef_arr[0])\n",
    "\n",
    "# Using the same array as before for the values of cos(x)\n",
    "calculated_cos = nev(x_val, y_val, 1)\n",
    "abs_err_cos = abs(calculated_cos - cos(1))\n",
    "rel_err_cos = abs_err_cos/abs(cos(1))\n",
    "# Using the same array as before for -sin(x)\n",
    "calculated_der_cos = nev(x_vals,y_vals,1)\n",
    "abs_err_sin = abs(calculated_der_cos + sin(1))\n",
    "rel_err_sin = abs_err_sin/abs(sin(1))\n",
    "print(\"__________________________________________________________________________\")\n",
    "print(\"Calculated value of cos(x) at x = 1:       \" + str(calculated_cos))\n",
    "print(\"Exact value of cos(x) at x = 1:            \" + str(cos(1)))\n",
    "print(\"Absolute error for the above calculations: \" + str(abs_err_cos))\n",
    "print(\"Relative error for the above calculations: \" + str(rel_err_cos))\n",
    "print(\"___________________________________________________________________________\")\n",
    "print(\"Calculated value of -sin(x) at x = 1:       \" + str(calculated_der_cos))\n",
    "print(\"Exact value of -sin(x) at x = 1:            \" + str(-sin(1)))\n",
    "print(\"Absolute error for the above calculations: \" + str(abs_err_sin))\n",
    "print(\"Relative error for the above calculations: \" + str(rel_err_sin))\n",
    "print(\"___________________________________________________________________________\")"
   ]
  },
  {
   "cell_type": "markdown",
   "metadata": {},
   "source": [
    "The results of Neville's method were as expected. This method made use of all the datapoints and essentially used each point to close into the value that was being searched for. It is a little more accurate than Newton's divided difference method for cos(1) and practically the same for its derivative."
   ]
  }
 ],
 "metadata": {
  "kernelspec": {
   "display_name": "Python 3",
   "language": "python",
   "name": "python3"
  },
  "language_info": {
   "codemirror_mode": {
    "name": "ipython",
    "version": 3
   },
   "file_extension": ".py",
   "mimetype": "text/x-python",
   "name": "python",
   "nbconvert_exporter": "python",
   "pygments_lexer": "ipython3",
   "version": "3.7.2"
  }
 },
 "nbformat": 4,
 "nbformat_minor": 2
}
